{
 "cells": [
  {
   "cell_type": "markdown",
   "id": "bf12c37f",
   "metadata": {},
   "source": [
    "Following the method of Hawthorne and Ampuero (20**)"
   ]
  },
  {
   "cell_type": "markdown",
   "id": "16691288",
   "metadata": {},
   "source": [
    "## Getting set up\n",
    "#### conda enviroment\n",
    "\n",
    "This code only has a number of dependencies. Create an enviroment following\n",
    "\n",
    "```bash\n",
    "conda env create -f environment.yml   # or other supported Python version <\\code>\n",
    "conda activate phasecoherence  # this command used to be 'source activate obspy' on older conda versions < 4.4\n",
    "(phase coherence) $ \n",
    "```\n",
    "    \n",
    "#### Inputs\n",
    "- Data : continuous data you want to search, with picks saved into SAC file as t3\n",
    "- Template: data you want to take the template from, with picks saved into SAC file as t3 (could be the same as data, a shorter window of same data, or very different)"
   ]
  },
  {
   "cell_type": "markdown",
   "id": "66f5adbe",
   "metadata": {},
   "source": [
    "## Preparation"
   ]
  },
  {
   "cell_type": "markdown",
   "id": "3b529ba4",
   "metadata": {},
   "source": [
    "### Imports"
   ]
  },
  {
   "cell_type": "markdown",
   "id": "4a2662c4",
   "metadata": {},
   "source": [
    "#### standard imports"
   ]
  },
  {
   "cell_type": "code",
   "execution_count": 12,
   "id": "ca732f8a",
   "metadata": {},
   "outputs": [],
   "source": [
    "import numpy as np\n",
    "import datetime\n",
    "import obspy\n",
    "import os\n",
    "import matplotlib.pyplot as plt\n",
    "import matplotlib\n",
    "%matplotlib inline"
   ]
  },
  {
   "cell_type": "markdown",
   "id": "cf44485a",
   "metadata": {},
   "source": [
    "#### special imports"
   ]
  },
  {
   "cell_type": "code",
   "execution_count": 2,
   "id": "6893008d",
   "metadata": {},
   "outputs": [],
   "source": [
    "import databseis\n",
    "import seisproc\n",
    "from PhaseCoherence import PhaseCoherence as PC\n",
    "import NZfunctions\n",
    "import PC_calculator"
   ]
  },
  {
   "cell_type": "markdown",
   "id": "4e0290c2",
   "metadata": {},
   "source": [
    "### Load data"
   ]
  },
  {
   "cell_type": "code",
   "execution_count": 14,
   "id": "255ddabc",
   "metadata": {},
   "outputs": [],
   "source": [
    "eqFolders = NZfunctions.NZopenEQList()\n",
    "j=1\n",
    "D = NZfunctions.NZLoadData(eqFolders[j],'sac') #data\n",
    "T = NZfunctions.NZLoadTempl(eqFolders[j]) #template"
   ]
  },
  {
   "cell_type": "markdown",
   "id": "ebea676f",
   "metadata": {},
   "source": [
    "### Parameters to choose"
   ]
  },
  {
   "cell_type": "markdown",
   "id": "7a553701",
   "metadata": {},
   "source": [
    "#### Template\n",
    "The duration of the template and the buffer either side can be varied"
   ]
  },
  {
   "cell_type": "code",
   "execution_count": 15,
   "id": "3fa6feec",
   "metadata": {},
   "outputs": [],
   "source": [
    "# window for template, \n",
    "wintemp = [-1,2] # from 1 second before pick to 2 seconds after\n",
    "\n",
    "# we'll buffer by buftemp on either side of the template\n",
    "# the template tapers to zero with a cosine taper within the buffer\n",
    "buftemp = 0.3\n"
   ]
  },
  {
   "cell_type": "markdown",
   "id": "869cfe17",
   "metadata": {},
   "source": [
    "#### bandpass limits\n",
    "The data will be bandpass filtered. You can choose the limits as appropriate for your data"
   ]
  },
  {
   "cell_type": "code",
   "execution_count": 16,
   "id": "59d5163e",
   "metadata": {},
   "outputs": [],
   "source": [
    "# frequency range (Hz)\n",
    "blim=[1,10]"
   ]
  },
  {
   "cell_type": "markdown",
   "id": "71f76373",
   "metadata": {},
   "source": [
    "#### computation windows\n",
    "The phase coherence can be calculated on windows of different lengths, and with different overlaps."
   ]
  },
  {
   "cell_type": "code",
   "execution_count": 17,
   "id": "ec0c42fa",
   "metadata": {},
   "outputs": [],
   "source": [
    "# Windows where PC is computed are wlenlook seconds long\n",
    "wlenlook=1. \n",
    "# Windows are separated by dtl seconds\n",
    "dtl = 0.2 # Windows are separated by dtl seconds\n",
    "trange=[-3600,3600] # Relative to pick (t3) how long we want to look at (1 hour either side)\n",
    "shift = []\n",
    "tlook = np.arange(-1800,1800,1.) #times to start window at"
   ]
  },
  {
   "cell_type": "markdown",
   "id": "d5a817cb",
   "metadata": {},
   "source": [
    "### Other parameters\n",
    "Other parameters are fixed or automatically calculated:"
   ]
  },
  {
   "cell_type": "code",
   "execution_count": 18,
   "id": "05540acd",
   "metadata": {},
   "outputs": [],
   "source": [
    "# we need to highpass filter to avoid aliasing\n",
    "hpfilt=np.minimum(np.diff(wintemp)[0],wlenlook)\n",
    "hpfilt=3/hpfilt\n",
    "\n",
    "# Get time shifts based on arrival time differences\n",
    "shifts = {}\n",
    "lini = 99999999.\n",
    "databseis.copyfromsacheader(T)\n",
    "databseis.copyfromsacheader(D)\n",
    "for tr in T:\n",
    "    nid = tr.stats.network+'.'+tr.stats.station+'.'+tr.stats.channel[-1]\n",
    "    shifts[nid] = tr.stats.t3 \n",
    "    if float(tr.stats.t3 )<float(lini):\n",
    "        lini=tr.stats.t3 \n",
    "        \n",
    "# Make sure smallest time-shift is 0.\n",
    "for k in shifts.keys():\n",
    "    shifts[k] = 0."
   ]
  },
  {
   "cell_type": "markdown",
   "id": "46bce7cf",
   "metadata": {},
   "source": [
    "### Extracting and processing data"
   ]
  },
  {
   "cell_type": "markdown",
   "id": "f5f84c17",
   "metadata": {},
   "source": [
    "We can extract info from the waveforms of D and T, and prepare it for the final plotting"
   ]
  },
  {
   "cell_type": "code",
   "execution_count": 19,
   "id": "1a8b966e",
   "metadata": {},
   "outputs": [],
   "source": [
    "toPlot = D[0].copy()\n",
    "D.merge()   \n",
    "Dtimes = toPlot.times()\n",
    "databseis.copyfromsacheader(toPlot)\n",
    "Ddates = Dtimes - toPlot.stats.t3 #for x-axis of plot"
   ]
  },
  {
   "cell_type": "markdown",
   "id": "554e5d01",
   "metadata": {},
   "source": [
    "We also filter the data and mask it as needed"
   ]
  },
  {
   "cell_type": "code",
   "execution_count": 20,
   "id": "8468a691",
   "metadata": {},
   "outputs": [],
   "source": [
    "mskD=seisproc.prepfiltmask(D)\n",
    "mskT=seisproc.prepfiltmask(T)\n",
    "T.filter('bandpass',freqmin=hpfilt,freqmax=19, zerophase = True)\n",
    "D.filter('bandpass',freqmin=hpfilt,freqmax=19, zerophase = True) \n",
    "seisproc.addfiltmask(D,mskD)\n",
    "seisproc.addfiltmask(T,mskT)\n",
    "starttime = D[0].stats.starttime.datetime"
   ]
  },
  {
   "cell_type": "markdown",
   "id": "ad4f845b",
   "metadata": {},
   "source": [
    "## Now we compute phase coherence"
   ]
  },
  {
   "cell_type": "code",
   "execution_count": 21,
   "id": "9adeb5ab",
   "metadata": {},
   "outputs": [],
   "source": [
    "# Compute PC\n",
    "P,t = PC_calculator.computePC(T,D,wintemp,buftemp,tlook,wlenlook,blim,None,shifts,None)"
   ]
  },
  {
   "cell_type": "markdown",
   "id": "0167460e",
   "metadata": {},
   "source": [
    "## Finally, we plot the results\n",
    "To show the results, we plot seismogram, interstation and intercomponent phase coherences alongside each other\n"
   ]
  },
  {
   "cell_type": "code",
   "execution_count": 22,
   "id": "dd4b3775",
   "metadata": {},
   "outputs": [
    {
     "data": {
      "image/png": "[encoded data removed]",
      "text/plain": [
       "<Figure size 640x480 with 3 Axes>"
      ]
     },
     "metadata": {},
     "output_type": "display_data"
    }
   ],
   "source": [
    "gain = 2.51658E+03\n",
    "figure, ax = plt.subplots(3, sharex=True)\n",
    "figure.suptitle('Seismograph and Phase Coherence Plot \\n of an Earthquake')\n",
    "ax[0].plot(Ddates,toPlot.data/gain,'k')\n",
    "\n",
    "sd = np.std(P.Cp['Cpstat'])\n",
    "mean = np.mean(P.Cp['Cpstat'])\n",
    "sdComp = np.std(P.Cp['Cpcomp'])\n",
    "meanComp = np.mean(P.Cp['Cpcomp'])\n",
    "    \n",
    "\n",
    "ax[1].plot(P.params['tlook'],P.Cp['Cpstat'],'k')\n",
    "ax[1].plot([-1800,1800],[1*sd+mean,1*sd+mean])\n",
    "ax[1].plot([-1800,1800],[2*sd+mean,2*sd+mean])\n",
    "ax[1].plot([-1800,1800],[3*sd+mean,3*sd+mean])\n",
    "ax[1].plot([-1800,1800],[4*sd+mean,4*sd+mean])\n",
    "#ax[1].set_xlabel('Time relative to earthquake P wave arrival (s)')\n",
    "ax[1].set_ylabel('Interstation \\n Phase coherence')\n",
    "\n",
    "ax[2].plot(P.params['tlook'],P.Cp['Cpcomp'],'k')\n",
    "ax[2].plot([-1800,1800],[1*sdComp+meanComp,1*sdComp+meanComp])\n",
    "ax[2].plot([-1800,1800],[2*sdComp+meanComp,2*sdComp+meanComp])\n",
    "ax[2].plot([-1800,1800],[3*sdComp+meanComp,3*sdComp+meanComp])\n",
    "ax[2].plot([-1800,1800],[4*sdComp+meanComp,4*sdComp+meanComp])\n",
    "ax[2].set_xlabel('Time relative to earthquake P wave arrival (s)')\n",
    "ax[2].set_ylabel('Intercomponent \\n Phase coherence')\n",
    "\n",
    "ax[0].set_ylabel('Displacement Rate \\n ($×10^{-6}$ms$^{-1}$)')\n",
    "plt.show()"
   ]
  },
  {
   "cell_type": "code",
   "execution_count": null,
   "id": "6314435f",
   "metadata": {},
   "outputs": [],
   "source": []
  }
 ],
 "metadata": {
  "kernelspec": {
   "display_name": "Python 3 (ipykernel)",
   "language": "python",
   "name": "python3"
  },
  "language_info": {
   "codemirror_mode": {
    "name": "ipython",
    "version": 3
   },
   "file_extension": ".py",
   "mimetype": "text/x-python",
   "name": "python",
   "nbconvert_exporter": "python",
   "pygments_lexer": "ipython3",
   "version": "3.10.6"
  }
 },
 "nbformat": 4,
 "nbformat_minor": 5
}
